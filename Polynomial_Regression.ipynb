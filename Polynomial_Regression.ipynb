{
 "cells": [
  {
   "cell_type": "code",
   "execution_count": 1,
   "metadata": {
    "colab": {
     "autoexec": {
      "startup": false,
      "wait_interval": 0
     }
    },
    "colab_type": "code",
    "id": "kzfUtoUEVTwP"
   },
   "outputs": [],
   "source": [
    "import math\n",
    "import numpy as np\n",
    "import matplotlib.pyplot as plt\n",
    "\n",
    "%matplotlib inline"
   ]
  },
  {
   "cell_type": "code",
   "execution_count": 2,
   "metadata": {
    "colab": {
     "autoexec": {
      "startup": false,
      "wait_interval": 0
     }
    },
    "colab_type": "code",
    "id": "8xi1q04PVTwT"
   },
   "outputs": [],
   "source": [
    "# Loading the data\n",
    "\n",
    "def load_data():\n",
    "    from sklearn.model_selection import train_test_split\n",
    "\n",
    "    data = np.genfromtxt('time_temp_2016.tsv', delimiter='\\t')\n",
    "    \n",
    "    x = data[:, 0]\n",
    "    x = x.reshape((x.shape[0], 1))\n",
    "    y = data[:, 1]\n",
    "    \n",
    "    train_set_x, test_set_x, train_set_y, test_set_y = train_test_split(x, y, test_size=0.33, random_state=42)\n",
    "    \n",
    "    train_set_y = train_set_y.reshape((1, train_set_y.shape[0]))\n",
    "    test_set_y = test_set_y.reshape((1, test_set_y.shape[0]))\n",
    "    \n",
    "    return train_set_x.T, test_set_x.T, train_set_y, test_set_y, x.T\n",
    "\n",
    "train_set_x, test_set_x, train_set_y, test_set_y, full_feature_set_for_plot = load_data()"
   ]
  },
  {
   "cell_type": "code",
   "execution_count": 3,
   "metadata": {
    "colab": {
     "autoexec": {
      "startup": false,
      "wait_interval": 0
     }
    },
    "colab_type": "code",
    "id": "sSxdzsspVTwV"
   },
   "outputs": [
    {
     "name": "stdout",
     "output_type": "stream",
     "text": [
      "(1, 245) (1, 245) (1, 121) (1, 121)\n"
     ]
    }
   ],
   "source": [
    "print(train_set_x.shape, train_set_y.shape, test_set_x.shape, test_set_y.shape)"
   ]
  },
  {
   "cell_type": "code",
   "execution_count": 4,
   "metadata": {
    "colab": {
     "autoexec": {
      "startup": false,
      "wait_interval": 0
     }
    },
    "colab_type": "code",
    "id": "SWTf0wbjVTwX"
   },
   "outputs": [
    {
     "name": "stdout",
     "output_type": "stream",
     "text": [
      "Number of training examples: m_train = 245\n",
      "Number of testing examples: m_test = 121\n",
      "\n",
      "train_set_x shape: (1, 245)\n",
      "train_set_y shape: (1, 245)\n",
      "test_set_x shape: (1, 121)\n",
      "test_set_y shape: (1, 121)\n"
     ]
    }
   ],
   "source": [
    "m_train = train_set_x.shape[1]\n",
    "m_test = test_set_x.shape[1]\n",
    "\n",
    "print (\"Number of training examples: m_train = \" + str(m_train))\n",
    "print (\"Number of testing examples: m_test = \" + str(m_test))\n",
    "\n",
    "print (\"\\ntrain_set_x shape: \" + str(train_set_x.shape))\n",
    "print (\"train_set_y shape: \" + str(train_set_y.shape))\n",
    "print (\"test_set_x shape: \" + str(test_set_x.shape))\n",
    "print (\"test_set_y shape: \" + str(test_set_y.shape))"
   ]
  },
  {
   "cell_type": "code",
   "execution_count": 5,
   "metadata": {
    "colab": {
     "autoexec": {
      "startup": false,
      "wait_interval": 0
     }
    },
    "colab_type": "code",
    "id": "veYXpJcCVTwc"
   },
   "outputs": [
    {
     "data": {
      "image/png": "[encoded data removed]",
      "text/plain": [
       "<Figure size 432x288 with 1 Axes>"
      ]
     },
     "metadata": {
      "needs_background": "light"
     },
     "output_type": "display_data"
    }
   ],
   "source": [
    "cmap = plt.get_cmap('viridis')\n",
    "\n",
    "# Plot the results\n",
    "m1 = plt.scatter(366 * train_set_x, train_set_y, color=cmap(0.9), s=10)\n",
    "m2 = plt.scatter(366 * test_set_x, test_set_y, color=cmap(0.5), s=10)\n",
    "plt.xlabel('Day')\n",
    "plt.ylabel('Temperature in Celcius')\n",
    "plt.legend((m1, m2), (\"Training data\", \"Test data\"), loc='lower right')\n",
    "plt.show()"
   ]
  },
  {
   "cell_type": "code",
   "execution_count": 6,
   "metadata": {
    "colab": {
     "autoexec": {
      "startup": false,
      "wait_interval": 0
     }
    },
    "colab_type": "code",
    "id": "wEBlvPFPVTwh"
   },
   "outputs": [],
   "source": [
    "def polynomial_features(X, degree):\n",
    "    \n",
    "    from itertools import combinations_with_replacement \n",
    "    # combinations_with_replacement('ABC', 2) --> AA AB AC BB BC CC\n",
    "    \n",
    "    n_features, n_samples = np.shape(X)\n",
    "    \n",
    "    def index_combinations(): ## (1, 2) => [(1),(2),(1,1),(1,2),(2,2)]\n",
    "        combs = [combinations_with_replacement(range(n_features), i) for i in range(0, degree + 1)]\n",
    "        ##comb = [(),((1),(2)),((1,1),(1,2),(2,2))]\n",
    "        flat_combs = [item for sublist in combs for item in sublist]\n",
    "        ##flat_combs = [(1),(2),(1,1),(1,2),(2,2)]\n",
    "        return flat_combs\n",
    "    \n",
    "    combinations = index_combinations()\n",
    "    \n",
    "    n_output_features = len(combinations)\n",
    "    \n",
    "    X_new = np.empty((n_output_features, n_samples))\n",
    "    \n",
    "    for i, index_combs in enumerate(combinations):  \n",
    "        X_new[i, :] = np.prod(X[index_combs, :], axis=0)\n",
    "        ## if index_combs == (1,2,3) =>  X_new[:,i] = X[:,1] * X[:,2] * X[:,3] \n",
    "    return X_new"
   ]
  },
  {
   "cell_type": "code",
   "execution_count": 7,
   "metadata": {
    "colab": {
     "autoexec": {
      "startup": false,
      "wait_interval": 0
     }
    },
    "colab_type": "code",
    "id": "kP8lQFc_VTwk"
   },
   "outputs": [],
   "source": [
    "# mean_squared_error\n",
    "\n",
    "def mean_squared_error(y_true, y_pred):\n",
    "    \"\"\" Returns the mean squared error between y_true and y_pred \n",
    "    \n",
    "    Arguments:\n",
    "    y_true -- array of true values\n",
    "    y_pred -- array of predicted values\n",
    "    \n",
    "    Returns:\n",
    "    mse -- mean squared error\n",
    "    \"\"\"\n",
    "    mse = np.sum((y_pred - y_true) ** 2) / y_true.squeeze().shape[0]\n",
    "    \n",
    "    return mse"
   ]
  },
  {
   "cell_type": "code",
   "execution_count": 8,
   "metadata": {
    "colab": {
     "autoexec": {
      "startup": false,
      "wait_interval": 0
     }
    },
    "colab_type": "code",
    "id": "skPGXgmaVTwo"
   },
   "outputs": [
    {
     "name": "stdout",
     "output_type": "stream",
     "text": [
      "mse = 1.75\n"
     ]
    }
   ],
   "source": [
    "print (\"mse = \" + str(mean_squared_error(np.array([1, 2, 3, 4]), np.array([2, 3, 4, 6]))))"
   ]
  },
  {
   "cell_type": "code",
   "execution_count": 9,
   "metadata": {
    "colab": {
     "autoexec": {
      "startup": false,
      "wait_interval": 0
     }
    },
    "colab_type": "code",
    "id": "luYMVongVTwr"
   },
   "outputs": [],
   "source": [
    "# l2_regularization\n",
    "\n",
    "class l2_regularization():\n",
    "    \"\"\" Regularization for Ridge Regression \"\"\"\n",
    "    def __init__(self, alpha):\n",
    "        \"\"\" Set alpha \"\"\"\n",
    "        self.alpha = alpha\n",
    "    \n",
    "    def __call__(self, w):\n",
    "        \"\"\" \n",
    "        Computes l2 regularization term\n",
    "        \n",
    "        Arguments:\n",
    "        w -- weights\n",
    "\n",
    "        Returns:\n",
    "        term -- 1/2 * alpha * norm(w)^2\n",
    "        \"\"\"\n",
    "        term = np.sum(w ** 2) * self.alpha / 2\n",
    "        return term\n",
    "\n",
    "    def grad(self, w):\n",
    "        \"\"\" \n",
    "        Computes derivative of l2 regularization term\n",
    "        \n",
    "        Arguments:\n",
    "        w -- weights\n",
    "\n",
    "        Returns:\n",
    "        vector -- alpha * w\n",
    "        \"\"\"        \n",
    "        derivative = self.alpha * w\n",
    "                \n",
    "        return derivative"
   ]
  },
  {
   "cell_type": "code",
   "execution_count": 10,
   "metadata": {
    "colab": {
     "autoexec": {
      "startup": false,
      "wait_interval": 0
     }
    },
    "colab_type": "code",
    "id": "jj9oruDhVTws"
   },
   "outputs": [
    {
     "name": "stdout",
     "output_type": "stream",
     "text": [
      "l2 reg. term = 7.5\n",
      "l2 grad. = [0.5 1.  1.5 2. ]\n"
     ]
    }
   ],
   "source": [
    "l2 = l2_regularization(0.5)\n",
    "print (\"l2 reg. term = \" + str(l2(np.array([1, 2, 3, 4]))))\n",
    "print (\"l2 grad. = \" + str(l2.grad(np.array([1, 2, 3, 4]))))"
   ]
  },
  {
   "cell_type": "code",
   "execution_count": 11,
   "metadata": {
    "colab": {
     "autoexec": {
      "startup": false,
      "wait_interval": 0
     }
    },
    "colab_type": "code",
    "id": "8dQSUzNdVTwx"
   },
   "outputs": [],
   "source": [
    "# PolynomialRidgeRegression\n",
    "\n",
    "class PolynomialRidgeRegression(object):\n",
    "    \"\"\"\n",
    "    Parameters:\n",
    "    -----------\n",
    "    degree: int\n",
    "        The degree of the polynomial that the independent variable X will be transformed to.\n",
    "    reg_factor: float\n",
    "        The factor that will determine the amount of regularization and feature\n",
    "        shrinkage. \n",
    "    n_iterations: int\n",
    "        The number of training iterations the algorithm will tune the weights for.\n",
    "    learning_rate: float\n",
    "        The step length that will be used when updating the weights.\n",
    "    \"\"\"\n",
    "    def __init__(self, degree, reg_factor, n_iterations=3000, learning_rate=0.01, print_error=False):\n",
    "        self.degree = degree\n",
    "        self.regularization = l2_regularization(alpha=reg_factor)\n",
    "        self.n_iterations = n_iterations\n",
    "        self.learning_rate = learning_rate\n",
    "        self.print_error = print_error\n",
    "    \n",
    "        \n",
    "    def initialize_with_zeros(self, n_features):\n",
    "        \"\"\"\n",
    "        This function creates a vector of zeros of shape (n_features, 1)\n",
    "        \n",
    "        Arguments:\n",
    "        n_features -- amount of features\n",
    "        \"\"\"        \n",
    "        self.w = np.zeros((n_features, 1))\n",
    "                \n",
    "        \n",
    "    def fit(self, X, Y):        \n",
    "        # Generate polynomial features\n",
    "        X = polynomial_features(X, self.degree)        \n",
    "\n",
    "        # Insert constant ones for bias weights\n",
    "        biases = np.ones((1, X.shape[1]))\n",
    "        X = np.vstack((biases, X))        \n",
    "        \n",
    "        # Create array\n",
    "        self.initialize_with_zeros(n_features=X.shape[0])        \n",
    "\n",
    "        # Do gradient descent for n_iterations\n",
    "        for i in range(self.n_iterations):\n",
    "            # Calculate prediction\n",
    "            H = np.dot(self.w.T, X)            \n",
    "\n",
    "            # Gradient of l2 loss\n",
    "            grad_w = self.regularization.grad(self.w)            \n",
    "\n",
    "            # Update the weights\n",
    "            deltas = H - Y            \n",
    "            self.w = self.w - self.learning_rate * (np.dot(X, deltas.T) + grad_w)\n",
    "\n",
    "            if self.print_error and i % 1000 == 0:\n",
    "                # Calculate l2 loss\n",
    "                mse = mean_squared_error(Y, H)                \n",
    "                print (\"MSE after iteration %i: %f\" %(i, mse))\n",
    "        \n",
    "            \n",
    "    def predict(self, X):        \n",
    "        # Generate polynomial features\n",
    "        X = polynomial_features(X, self.degree)\n",
    "        \n",
    "        # Insert constant ones for bias weights\n",
    "        biases = np.ones((1, X.shape[1]))\n",
    "        X = np.vstack((biases, X))\n",
    "        \n",
    "        # Calculate prediction\n",
    "        y_pred = np.dot(self.w.T, X)        \n",
    "        \n",
    "        return y_pred"
   ]
  },
  {
   "cell_type": "code",
   "execution_count": 12,
   "metadata": {
    "colab": {
     "autoexec": {
      "startup": false,
      "wait_interval": 0
     }
    },
    "colab_type": "code",
    "id": "OMp_eKnqVTw0"
   },
   "outputs": [],
   "source": [
    "poly_degree = 15\n",
    "learning_rate = 0.001\n",
    "n_iterations = 10000\n",
    "reg_factor = 0.1"
   ]
  },
  {
   "cell_type": "code",
   "execution_count": 13,
   "metadata": {
    "colab": {
     "autoexec": {
      "startup": false,
      "wait_interval": 0
     }
    },
    "colab_type": "code",
    "id": "27_JfRk5VTw3"
   },
   "outputs": [],
   "source": [
    "model = PolynomialRidgeRegression(\n",
    "    degree=poly_degree, \n",
    "    reg_factor=reg_factor,\n",
    "    learning_rate=learning_rate,\n",
    "    n_iterations=n_iterations,\n",
    "    print_error=True\n",
    ")"
   ]
  },
  {
   "cell_type": "code",
   "execution_count": 14,
   "metadata": {
    "colab": {
     "autoexec": {
      "startup": false,
      "wait_interval": 0
     }
    },
    "colab_type": "code",
    "id": "Kmcc8nSCVTw4"
   },
   "outputs": [
    {
     "name": "stdout",
     "output_type": "stream",
     "text": [
      "MSE after iteration 0: 127.482367\n",
      "MSE after iteration 1000: 14.568897\n",
      "MSE after iteration 2000: 12.862790\n",
      "MSE after iteration 3000: 12.687616\n",
      "MSE after iteration 4000: 12.652576\n",
      "MSE after iteration 5000: 12.640050\n",
      "MSE after iteration 6000: 12.632690\n",
      "MSE after iteration 7000: 12.627097\n",
      "MSE after iteration 8000: 12.622458\n",
      "MSE after iteration 9000: 12.618504\n"
     ]
    }
   ],
   "source": [
    "model.fit(train_set_x, train_set_y)"
   ]
  },
  {
   "cell_type": "code",
   "execution_count": 15,
   "metadata": {
    "colab": {
     "autoexec": {
      "startup": false,
      "wait_interval": 0
     }
    },
    "colab_type": "code",
    "id": "8gSf84zmVTw8"
   },
   "outputs": [],
   "source": [
    "y_predictions = model.predict(test_set_x)"
   ]
  },
  {
   "cell_type": "code",
   "execution_count": 16,
   "metadata": {
    "colab": {
     "autoexec": {
      "startup": false,
      "wait_interval": 0
     }
    },
    "colab_type": "code",
    "id": "NRTQXtDKVTw-"
   },
   "outputs": [],
   "source": [
    "mse = mean_squared_error(test_set_y, y_predictions)"
   ]
  },
  {
   "cell_type": "code",
   "execution_count": 17,
   "metadata": {
    "colab": {
     "autoexec": {
      "startup": false,
      "wait_interval": 0
     }
    },
    "colab_type": "code",
    "id": "6eImX7c5VTxA"
   },
   "outputs": [
    {
     "name": "stdout",
     "output_type": "stream",
     "text": [
      "Mean squared error on test set: 11.019103172630942 (given by reg. factor: 0.1)\n"
     ]
    }
   ],
   "source": [
    "print (\"Mean squared error on test set: %s (given by reg. factor: %s)\" % (mse, reg_factor))"
   ]
  },
  {
   "cell_type": "code",
   "execution_count": 18,
   "metadata": {},
   "outputs": [
    {
     "name": "stdout",
     "output_type": "stream",
     "text": [
      "Mean squared error on test set: 11.019103172630942 (given by reg. factor: 0.1)\n"
     ]
    }
   ],
   "source": [
    "print (f\"Mean squared error on test set: {mse} (given by reg. factor: {reg_factor})\")"
   ]
  },
  {
   "cell_type": "code",
   "execution_count": 19,
   "metadata": {
    "colab": {
     "autoexec": {
      "startup": false,
      "wait_interval": 0
     }
    },
    "colab_type": "code",
    "id": "s5REMxqxVTxC"
   },
   "outputs": [
    {
     "data": {
      "image/png": "[encoded data removed]",
      "text/plain": [
       "<Figure size 432x288 with 1 Axes>"
      ]
     },
     "metadata": {
      "needs_background": "light"
     },
     "output_type": "display_data"
    }
   ],
   "source": [
    "cmap = plt.get_cmap('viridis')\n",
    "\n",
    "# Predict for all points in set\n",
    "y_val = model.predict(full_feature_set_for_plot)\n",
    "\n",
    "# Plot the results\n",
    "m1 = plt.scatter(366 * train_set_x, train_set_y, color=cmap(0.9), s=10)\n",
    "m2 = plt.scatter(366 * test_set_x, test_set_y, color=cmap(0.5), s=10)\n",
    "plt.plot(366 * full_feature_set_for_plot.T, y_val.T, color='black', linewidth=2, label=\"Prediction\")\n",
    "plt.suptitle(\"Polynomial Ridge Regression\")\n",
    "plt.title(\"MSE: %.2f\" % mse, fontsize=10)\n",
    "plt.xlabel('Day')\n",
    "plt.ylabel('Temperature in Celcius')\n",
    "plt.legend((m1, m2), (\"Training data\", \"Test data\"), loc='lower right')\n",
    "plt.show()"
   ]
  },
  {
   "cell_type": "code",
   "execution_count": 20,
   "metadata": {},
   "outputs": [
    {
     "name": "stdout",
     "output_type": "stream",
     "text": [
      "(1, 245) (1, 245) (1, 121) (1, 121)\n"
     ]
    }
   ],
   "source": [
    "# применение модели scikit learn для датасета из time_temp_2016.tsv\n",
    "\n",
    "train_set_x, test_set_x, train_set_y, test_set_y, full_feature_set_for_plot = load_data()\n",
    "print(train_set_x.shape, train_set_y.shape, test_set_x.shape, test_set_y.shape)"
   ]
  },
  {
   "cell_type": "code",
   "execution_count": 21,
   "metadata": {},
   "outputs": [
    {
     "name": "stdout",
     "output_type": "stream",
     "text": [
      "(245, 1) (245, 1) (121, 1) (121, 1)\n"
     ]
    }
   ],
   "source": [
    "# преобразуем в привычный формат - из (n_features x n_samples) в (n_samples x n_features)\n",
    "\n",
    "train_set_x = train_set_x.T\n",
    "train_set_y = train_set_y.T\n",
    "test_set_x = test_set_x.T\n",
    "test_set_y = test_set_y.T\n",
    "print(train_set_x.shape, train_set_y.shape, test_set_x.shape, test_set_y.shape)"
   ]
  },
  {
   "cell_type": "code",
   "execution_count": 22,
   "metadata": {},
   "outputs": [
    {
     "data": {
      "text/plain": [
       "{'alpha': 0.1,\n",
       " 'copy_X': True,\n",
       " 'fit_intercept': True,\n",
       " 'max_iter': None,\n",
       " 'normalize': False,\n",
       " 'random_state': None,\n",
       " 'solver': 'auto',\n",
       " 'tol': 0.001}"
      ]
     },
     "execution_count": 22,
     "metadata": {},
     "output_type": "execute_result"
    }
   ],
   "source": [
    "from sklearn.linear_model import Ridge\n",
    "\n",
    "from sklearn.preprocessing import PolynomialFeatures\n",
    "\n",
    "degree = 15\n",
    "poly = PolynomialFeatures(degree)\n",
    "\n",
    "train_set_x = poly.fit_transform(train_set_x)\n",
    "test_set_x = poly.fit_transform(test_set_x)\n",
    "\n",
    "model = Ridge(alpha=0.1)\n",
    "model.fit(train_set_x, train_set_y)\n",
    "model.get_params()"
   ]
  },
  {
   "cell_type": "code",
   "execution_count": 23,
   "metadata": {},
   "outputs": [
    {
     "data": {
      "text/plain": [
       "0.7932002726682527"
      ]
     },
     "execution_count": 23,
     "metadata": {},
     "output_type": "execute_result"
    }
   ],
   "source": [
    "# Return the coefficient of determination R^2 of the prediction.\n",
    "\n",
    "model.score(train_set_x, train_set_y)"
   ]
  },
  {
   "cell_type": "code",
   "execution_count": 24,
   "metadata": {},
   "outputs": [],
   "source": [
    "# predictions on train and test sets\n",
    "\n",
    "predictions_train = model.predict(train_set_x)\n",
    "predictions_test = model.predict(test_set_x)"
   ]
  },
  {
   "cell_type": "code",
   "execution_count": 25,
   "metadata": {},
   "outputs": [
    {
     "data": {
      "text/plain": [
       "0.7932002726682527"
      ]
     },
     "execution_count": 25,
     "metadata": {},
     "output_type": "execute_result"
    }
   ],
   "source": [
    "from sklearn.metrics import r2_score\n",
    "\n",
    "r2_score(train_set_y, predictions_train)"
   ]
  },
  {
   "cell_type": "code",
   "execution_count": 26,
   "metadata": {},
   "outputs": [
    {
     "data": {
      "text/plain": [
       "12.587924173862792"
      ]
     },
     "execution_count": 26,
     "metadata": {},
     "output_type": "execute_result"
    }
   ],
   "source": [
    "from sklearn.metrics import mean_squared_error\n",
    "\n",
    "mean_squared_error(train_set_y, predictions_train)"
   ]
  },
  {
   "cell_type": "code",
   "execution_count": 27,
   "metadata": {},
   "outputs": [
    {
     "data": {
      "text/plain": [
       "12.587924173862792"
      ]
     },
     "execution_count": 27,
     "metadata": {},
     "output_type": "execute_result"
    }
   ],
   "source": [
    "# определение mse, используя ранее написанную пользовательскую функцию\n",
    "\n",
    "mse = mean_squared_error(train_set_y, predictions_train)\n",
    "mse"
   ]
  },
  {
   "cell_type": "code",
   "execution_count": 28,
   "metadata": {},
   "outputs": [
    {
     "data": {
      "text/plain": [
       "10.97782249410357"
      ]
     },
     "execution_count": 28,
     "metadata": {},
     "output_type": "execute_result"
    }
   ],
   "source": [
    "# mse на тестовом сете\n",
    "\n",
    "mean_squared_error(test_set_y, predictions_test)"
   ]
  },
  {
   "cell_type": "code",
   "execution_count": 29,
   "metadata": {},
   "outputs": [
    {
     "data": {
      "text/plain": [
       "array([[  0.        ,  49.12005526,   8.48629654, -16.10288267,\n",
       "        -24.63036797, -23.5322046 , -18.09018066, -11.39544779,\n",
       "         -4.99685122,   0.43525698,   4.68958518,   7.78054463,\n",
       "          9.82432017,  10.97463703,  11.39036197,  11.21999046]])"
      ]
     },
     "execution_count": 29,
     "metadata": {},
     "output_type": "execute_result"
    }
   ],
   "source": [
    "model.coef_"
   ]
  },
  {
   "cell_type": "code",
   "execution_count": 30,
   "metadata": {},
   "outputs": [
    {
     "data": {
      "text/plain": [
       "array([-6.38388827])"
      ]
     },
     "execution_count": 30,
     "metadata": {},
     "output_type": "execute_result"
    }
   ],
   "source": [
    "model.intercept_"
   ]
  },
  {
   "cell_type": "code",
   "execution_count": 33,
   "metadata": {},
   "outputs": [
    {
     "data": {
      "text/plain": [
       "{'alpha': 0.1,\n",
       " 'copy_X': True,\n",
       " 'fit_intercept': True,\n",
       " 'max_iter': 1000,\n",
       " 'normalize': False,\n",
       " 'positive': False,\n",
       " 'precompute': False,\n",
       " 'random_state': None,\n",
       " 'selection': 'cyclic',\n",
       " 'tol': 0.0001,\n",
       " 'warm_start': False}"
      ]
     },
     "execution_count": 33,
     "metadata": {},
     "output_type": "execute_result"
    }
   ],
   "source": [
    "# создание регрессионной модели с L1-регуляризацией (Lasso)\n",
    "\n",
    "from sklearn.linear_model import Lasso\n",
    "\n",
    "model = Lasso(alpha=0.1)\n",
    "model.fit(train_set_x, train_set_y)\n",
    "model.get_params()"
   ]
  },
  {
   "cell_type": "code",
   "execution_count": 34,
   "metadata": {},
   "outputs": [
    {
     "data": {
      "text/plain": [
       "0.6336096636237545"
      ]
     },
     "execution_count": 34,
     "metadata": {},
     "output_type": "execute_result"
    }
   ],
   "source": [
    "model.score(train_set_x, train_set_y)"
   ]
  },
  {
   "cell_type": "code",
   "execution_count": 35,
   "metadata": {},
   "outputs": [
    {
     "data": {
      "text/plain": [
       "{'alpha': 0.03,\n",
       " 'copy_X': True,\n",
       " 'fit_intercept': True,\n",
       " 'l1_ratio': 0.99,\n",
       " 'max_iter': 1000,\n",
       " 'normalize': False,\n",
       " 'positive': False,\n",
       " 'precompute': False,\n",
       " 'random_state': 0,\n",
       " 'selection': 'cyclic',\n",
       " 'tol': 0.0001,\n",
       " 'warm_start': False}"
      ]
     },
     "execution_count": 35,
     "metadata": {},
     "output_type": "execute_result"
    }
   ],
   "source": [
    "# создание регрессионной модели с L1 и L2 регуляризацией (ElasticNet)\n",
    "\n",
    "from sklearn.linear_model import ElasticNet\n",
    "\n",
    "model = ElasticNet(random_state=0, alpha=0.03, l1_ratio=0.99)\n",
    "model.fit(train_set_x, train_set_y)\n",
    "model.get_params()"
   ]
  },
  {
   "cell_type": "code",
   "execution_count": 36,
   "metadata": {},
   "outputs": [
    {
     "data": {
      "text/plain": [
       "0.7660404622977228"
      ]
     },
     "execution_count": 36,
     "metadata": {},
     "output_type": "execute_result"
    }
   ],
   "source": [
    "model.score(train_set_x, train_set_y)"
   ]
  },
  {
   "cell_type": "code",
   "execution_count": null,
   "metadata": {},
   "outputs": [],
   "source": []
  }
 ],
 "metadata": {
  "colab": {
   "collapsed_sections": [],
   "default_view": {},
   "name": "Polynomial_Ridge_Regression.ipynb",
   "provenance": [],
   "version": "0.3.2",
   "views": {}
  },
  "kernelspec": {
   "display_name": "Python 3",
   "language": "python",
   "name": "python3"
  },
  "language_info": {
   "codemirror_mode": {
    "name": "ipython",
    "version": 3
   },
   "file_extension": ".py",
   "mimetype": "text/x-python",
   "name": "python",
   "nbconvert_exporter": "python",
   "pygments_lexer": "ipython3",
   "version": "3.7.6"
  }
 },
 "nbformat": 4,
 "nbformat_minor": 1
}
